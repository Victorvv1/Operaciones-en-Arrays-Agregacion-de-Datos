{
  "nbformat": 4,
  "nbformat_minor": 0,
  "metadata": {
    "colab": {
      "provenance": []
    },
    "kernelspec": {
      "name": "python3",
      "display_name": "Python 3"
    },
    "language_info": {
      "name": "python"
    }
  },
  "cells": [
    {
      "cell_type": "markdown",
      "source": [
        "# Operaciones en Arrays: Agregación de Datos."
      ],
      "metadata": {
        "id": "3f1glUTyt5Ez"
      }
    },
    {
      "cell_type": "markdown",
      "source": [
        "## Sumando los datos de un Array"
      ],
      "metadata": {
        "id": "5k59HQecuQD-"
      }
    },
    {
      "cell_type": "code",
      "source": [
        "import numpy as np\n",
        "rng = np.random.default_rng(seed=1701)"
      ],
      "metadata": {
        "id": "JbMdur1QuTNC"
      },
      "execution_count": null,
      "outputs": []
    },
    {
      "cell_type": "code",
      "source": [
        "L = rng.random(100)\n",
        "print(L)"
      ],
      "metadata": {
        "colab": {
          "base_uri": "https://localhost:8080/"
        },
        "id": "-Pzrkvvkua0l",
        "outputId": "c82501dc-4d7e-451c-ee24-6c590c5801e9"
      },
      "execution_count": null,
      "outputs": [
        {
          "output_type": "stream",
          "name": "stdout",
          "text": [
            "[0.11916331 0.4286929  0.92886887 0.78764941 0.64390348 0.99056718\n",
            " 0.53427892 0.90956002 0.09409217 0.21853192 0.41448441 0.05831073\n",
            " 0.36406978 0.67953465 0.08523745 0.07310691 0.51768392 0.84329503\n",
            " 0.35390371 0.97353984 0.24078689 0.30996984 0.86755384 0.76241512\n",
            " 0.12267775 0.87240934 0.97672732 0.76392583 0.54179612 0.76337955\n",
            " 0.64238766 0.28724588 0.49168101 0.8376644  0.65340984 0.65732383\n",
            " 0.32957476 0.53500267 0.50540463 0.78077789 0.39624012 0.61107131\n",
            " 0.88337777 0.71256986 0.16617287 0.5032369  0.66745088 0.27990148\n",
            " 0.65624575 0.03692518 0.93462585 0.00333904 0.46841263 0.87851623\n",
            " 0.40101132 0.93570002 0.19193102 0.33948162 0.47859496 0.47259015\n",
            " 0.07456694 0.10303532 0.48703871 0.20227263 0.67437482 0.58805514\n",
            " 0.49395663 0.15924506 0.3198452  0.62454874 0.36711843 0.40342562\n",
            " 0.11560833 0.74885004 0.43426584 0.74545999 0.88859736 0.90136977\n",
            " 0.15982664 0.89955679 0.8372147  0.9774878  0.25265919 0.91953247\n",
            " 0.97929422 0.39264593 0.94012103 0.60939307 0.19331949 0.81664347\n",
            " 0.66042197 0.92416539 0.58543156 0.14683398 0.11193353 0.6501754\n",
            " 0.76851143 0.20230625 0.78788118 0.58684273]\n"
          ]
        }
      ]
    },
    {
      "cell_type": "code",
      "source": [
        "sum(L)"
      ],
      "metadata": {
        "colab": {
          "base_uri": "https://localhost:8080/"
        },
        "id": "yAIPqCFXuex_",
        "outputId": "6ee0c554-8c8c-432d-a9f3-cdbaf7525a3d"
      },
      "execution_count": null,
      "outputs": [
        {
          "output_type": "execute_result",
          "data": {
            "text/plain": [
              "53.711816547647715"
            ]
          },
          "metadata": {},
          "execution_count": 4
        }
      ]
    },
    {
      "cell_type": "code",
      "source": [
        "np.sum(L)"
      ],
      "metadata": {
        "colab": {
          "base_uri": "https://localhost:8080/"
        },
        "id": "ipPlRDciuhKW",
        "outputId": "864a85eb-93b7-45aa-c652-9f79d3732e2a"
      },
      "execution_count": null,
      "outputs": [
        {
          "output_type": "execute_result",
          "data": {
            "text/plain": [
              "53.71181654764773"
            ]
          },
          "metadata": {},
          "execution_count": 5
        }
      ]
    },
    {
      "cell_type": "code",
      "source": [
        "big_array = rng.random(1_000_000)\n",
        "%timeit sum(big_array)\n",
        "%timeit np.sum(big_array)"
      ],
      "metadata": {
        "colab": {
          "base_uri": "https://localhost:8080/"
        },
        "id": "r5pdCWrbumTl",
        "outputId": "05b6041c-273e-4078-ac3d-281eb07edac5"
      },
      "execution_count": null,
      "outputs": [
        {
          "output_type": "stream",
          "name": "stdout",
          "text": [
            "202 ms ± 5.15 ms per loop (mean ± std. dev. of 7 runs, 1 loop each)\n",
            "357 µs ± 15.7 µs per loop (mean ± std. dev. of 7 runs, 1000 loops each)\n"
          ]
        }
      ]
    },
    {
      "cell_type": "markdown",
      "source": [
        "## Mínimo y Máximo"
      ],
      "metadata": {
        "id": "VlIGtjN5vKjA"
      }
    },
    {
      "cell_type": "code",
      "source": [
        "min(big_array), max(big_array)"
      ],
      "metadata": {
        "colab": {
          "base_uri": "https://localhost:8080/"
        },
        "id": "DBf8nefyvMkN",
        "outputId": "8899b24d-5380-402a-e0f3-0f4e05231f9c"
      },
      "execution_count": null,
      "outputs": [
        {
          "output_type": "execute_result",
          "data": {
            "text/plain": [
              "(1.738670563078415e-06, 0.9999980069594879)"
            ]
          },
          "metadata": {},
          "execution_count": 8
        }
      ]
    },
    {
      "cell_type": "code",
      "source": [
        "np.min(big_array), np.max(big_array)"
      ],
      "metadata": {
        "colab": {
          "base_uri": "https://localhost:8080/"
        },
        "id": "Z5NqFABVvN73",
        "outputId": "661475dc-c1be-4b42-e696-7f3ccf8c68ea"
      },
      "execution_count": null,
      "outputs": [
        {
          "output_type": "execute_result",
          "data": {
            "text/plain": [
              "(1.738670563078415e-06, 0.9999980069594879)"
            ]
          },
          "metadata": {},
          "execution_count": 10
        }
      ]
    },
    {
      "cell_type": "code",
      "source": [
        "%timeit min(big_array)\n",
        "%timeit np.min(big_array)"
      ],
      "metadata": {
        "colab": {
          "base_uri": "https://localhost:8080/"
        },
        "id": "x_f6NTjtvTpz",
        "outputId": "c448a580-2bdf-419e-91de-b929edc19405"
      },
      "execution_count": null,
      "outputs": [
        {
          "output_type": "stream",
          "name": "stdout",
          "text": [
            "63.2 ms ± 813 µs per loop (mean ± std. dev. of 7 runs, 10 loops each)\n",
            "383 µs ± 10.5 µs per loop (mean ± std. dev. of 7 runs, 1000 loops each)\n"
          ]
        }
      ]
    },
    {
      "cell_type": "code",
      "source": [
        "print(big_array.min(), big_array.max(), big_array.sum())"
      ],
      "metadata": {
        "colab": {
          "base_uri": "https://localhost:8080/"
        },
        "id": "A6fihmaovc5P",
        "outputId": "e6a3bc24-4dae-4871-c6b8-d8e755ed0969"
      },
      "execution_count": null,
      "outputs": [
        {
          "output_type": "stream",
          "name": "stdout",
          "text": [
            "1.738670563078415e-06 0.9999980069594879 499886.02699046885\n"
          ]
        }
      ]
    },
    {
      "cell_type": "markdown",
      "source": [
        "## Agregaciones Multimensionales"
      ],
      "metadata": {
        "id": "1oq668Tivsec"
      }
    },
    {
      "cell_type": "code",
      "source": [
        "M = rng.integers(0, 10, (3, 4))\n",
        "print(M)"
      ],
      "metadata": {
        "colab": {
          "base_uri": "https://localhost:8080/"
        },
        "id": "BCjXx_V_vwfD",
        "outputId": "43479237-3a2b-4a4a-b16c-014fd7c0e2dd"
      },
      "execution_count": null,
      "outputs": [
        {
          "output_type": "stream",
          "name": "stdout",
          "text": [
            "[[0 9 3 0]\n",
            " [4 7 3 8]\n",
            " [7 1 3 8]]\n"
          ]
        }
      ]
    },
    {
      "cell_type": "code",
      "source": [
        "M.sum()"
      ],
      "metadata": {
        "colab": {
          "base_uri": "https://localhost:8080/"
        },
        "id": "zASFZFHfv54h",
        "outputId": "2287bebd-19b5-42de-b7b8-e6620ff26055"
      },
      "execution_count": null,
      "outputs": [
        {
          "output_type": "execute_result",
          "data": {
            "text/plain": [
              "53"
            ]
          },
          "metadata": {},
          "execution_count": 15
        }
      ]
    },
    {
      "cell_type": "code",
      "source": [
        "M.min(axis=0)"
      ],
      "metadata": {
        "colab": {
          "base_uri": "https://localhost:8080/"
        },
        "id": "IrtwRg6Cv8Pb",
        "outputId": "e0f19ef1-5bc7-4086-d6e5-2957cc06e47a"
      },
      "execution_count": null,
      "outputs": [
        {
          "output_type": "execute_result",
          "data": {
            "text/plain": [
              "array([0, 1, 3, 0])"
            ]
          },
          "metadata": {},
          "execution_count": 16
        }
      ]
    },
    {
      "cell_type": "code",
      "source": [
        "M.max(axis=1)"
      ],
      "metadata": {
        "colab": {
          "base_uri": "https://localhost:8080/"
        },
        "id": "hLHoxn5QwAjp",
        "outputId": "e2732dfa-7e4a-491e-8eac-383e1fdcf0a7"
      },
      "execution_count": null,
      "outputs": [
        {
          "output_type": "execute_result",
          "data": {
            "text/plain": [
              "array([9, 8, 8])"
            ]
          },
          "metadata": {},
          "execution_count": 17
        }
      ]
    },
    {
      "cell_type": "markdown",
      "source": [
        "## Otras Funciones de Agregación\n",
        "|Function name    |   NaN-safe version| Description                                   |\n",
        "|-----------------|-------------------|-----------------------------------------------|\n",
        "| `np.sum`        | `np.nansum`       | Compute sum of elements                       |\n",
        "| `np.prod`       | `np.nanprod`      | Compute product of elements                   |\n",
        "| `np.mean`       | `np.nanmean`      | Compute mean of elements                      |\n",
        "| `np.std`        | `np.nanstd`       | Compute standard deviation                    |\n",
        "| `np.var`        | `np.nanvar`       | Compute variance                              |\n",
        "| `np.min`        | `np.nanmin`       | Find minimum value                            |\n",
        "| `np.max`        | `np.nanmax`       | Find maximum value                            |\n",
        "| `np.argmin`     | `np.nanargmin`    | Find index of minimum value                   |\n",
        "| `np.argmax`     | `np.nanargmax`    | Find index of maximum value                   |\n",
        "| `np.median`     | `np.nanmedian`    | Compute median of elements                    |\n",
        "| `np.percentile` | `np.nanpercentile`| Compute rank-based statistics of elements     |\n",
        "| `np.any`        | N/A               | Evaluate whether any elements are true        |\n",
        "| `np.all`        | N/A               | Evaluate whether all elements are true   "
      ],
      "metadata": {
        "id": "QP85XT4BwIQu"
      }
    },
    {
      "cell_type": "code",
      "source": [
        "!head -4 data/president_heights.csv # crear carpeta data y dentro cargar archivo https://github.com/jakevdp/PythonDataScienceHandbook/blob/master/notebooks/data/president_heights.csv"
      ],
      "metadata": {
        "colab": {
          "base_uri": "https://localhost:8080/"
        },
        "id": "RN5P_odGwMbt",
        "outputId": "9f1d67a3-b196-4959-a850-47fed8254668"
      },
      "execution_count": null,
      "outputs": [
        {
          "output_type": "stream",
          "name": "stdout",
          "text": [
            "order,name,height(cm)\n",
            "1,George Washington,189\n",
            "2,John Adams,170\n",
            "3,Thomas Jefferson,189\n"
          ]
        }
      ]
    },
    {
      "cell_type": "code",
      "source": [
        "import pandas as pd\n",
        "data = pd.read_csv('data/president_heights.csv')\n",
        "heights = np.array(data['height(cm)'])\n",
        "print(heights)"
      ],
      "metadata": {
        "colab": {
          "base_uri": "https://localhost:8080/"
        },
        "id": "CPvYCULAw0bs",
        "outputId": "f6a64c4c-0e0f-41bc-99cd-7feb4fb2905e"
      },
      "execution_count": null,
      "outputs": [
        {
          "output_type": "stream",
          "name": "stdout",
          "text": [
            "[189 170 189 163 183 171 185 168 173 183 173 173 175 178 183 193 178 173\n",
            " 174 183 183 168 170 178 182 180 183 178 182 188 175 179 183 193 182 183\n",
            " 177 185 188 188 182 185 191 182]\n"
          ]
        }
      ]
    },
    {
      "cell_type": "code",
      "source": [
        "import pandas as pd\n",
        "\n",
        "# URL directa al archivo raw de GitHub\n",
        "url = 'https://raw.githubusercontent.com/jakevdp/PythonDataScienceHandbook/master/notebooks/data/president_heights.csv'\n",
        "\n",
        "# Cargar el CSV\n",
        "df = pd.read_csv(url)\n",
        "\n",
        "# Mostrar las primeras filas para verificar\n",
        "print(df.head())"
      ],
      "metadata": {
        "id": "OJCyteC-35_y",
        "outputId": "86d64a6e-1b87-413a-e7c5-a4ea449ea86b",
        "colab": {
          "base_uri": "https://localhost:8080/"
        }
      },
      "execution_count": null,
      "outputs": [
        {
          "output_type": "stream",
          "name": "stdout",
          "text": [
            "   order               name  height(cm)\n",
            "0      1  George Washington         189\n",
            "1      2         John Adams         170\n",
            "2      3   Thomas Jefferson         189\n",
            "3      4      James Madison         163\n",
            "4      5       James Monroe         183\n"
          ]
        }
      ]
    },
    {
      "cell_type": "code",
      "source": [
        "np.percentile(heights, 25)"
      ],
      "metadata": {
        "colab": {
          "base_uri": "https://localhost:8080/"
        },
        "id": "v4Z12poZxbbc",
        "outputId": "f4ac4297-2ce1-4a75-d271-fb3995deee96"
      },
      "execution_count": null,
      "outputs": [
        {
          "output_type": "execute_result",
          "data": {
            "text/plain": [
              "174.75"
            ]
          },
          "metadata": {},
          "execution_count": 23
        }
      ]
    },
    {
      "cell_type": "code",
      "source": [
        "np.median(heights)"
      ],
      "metadata": {
        "colab": {
          "base_uri": "https://localhost:8080/"
        },
        "id": "fDftIo_txrma",
        "outputId": "dff1cfbc-a62c-4fa3-ac02-a28eb46c713d"
      },
      "execution_count": null,
      "outputs": [
        {
          "output_type": "execute_result",
          "data": {
            "text/plain": [
              "182.0"
            ]
          },
          "metadata": {},
          "execution_count": 24
        }
      ]
    },
    {
      "cell_type": "code",
      "source": [
        "np.percentile(heights, 75)"
      ],
      "metadata": {
        "colab": {
          "base_uri": "https://localhost:8080/"
        },
        "id": "r-P__DZxxwwk",
        "outputId": "f8a592e6-2913-426a-e0bc-6285e8e815df"
      },
      "execution_count": null,
      "outputs": [
        {
          "output_type": "execute_result",
          "data": {
            "text/plain": [
              "183.5"
            ]
          },
          "metadata": {},
          "execution_count": 25
        }
      ]
    },
    {
      "cell_type": "code",
      "source": [
        "%matplotlib inline\n",
        "import matplotlib.pyplot as plt\n",
        "plt.style.use('seaborn-v0_8-whitegrid')"
      ],
      "metadata": {
        "id": "qhh7td2Gxyr_"
      },
      "execution_count": null,
      "outputs": []
    },
    {
      "cell_type": "code",
      "source": [
        "plt.hist(heights)\n",
        "plt.title('Distribución de alturas de los presidentes de Estados Unidos')\n",
        "plt.xlabel('Altura (cm)')\n",
        "plt.ylabel('Número')\n",
        "plt.show()"
      ],
      "metadata": {
        "colab": {
          "base_uri": "https://localhost:8080/",
          "height": 465
        },
        "id": "T5WcvJ_fx70Z",
        "outputId": "b2d4b412-eec9-4b5d-89a9-7587fe088124"
      },
      "execution_count": null,
      "outputs": [
        {
          "output_type": "display_data",
          "data": {
            "text/plain": [
              "<Figure size 640x480 with 1 Axes>"
            ],
            "image/png": "[encoded data removed]"
          },
          "metadata": {}
        }
      ]
    },
    {
      "cell_type": "markdown",
      "source": [
        "# Ejercicios de Repaso: Agregaciones en NumPy\n",
        "\n",
        "## Ejercicio 1: Agregaciones Básicas\n",
        "\n",
        "En este ejercicio, practicarás el uso de funciones de agregación básicas de NumPy con arrays unidimensionales y multidimensionales.\n",
        "\n",
        "```python\n",
        "import numpy as np\n",
        "\n",
        "# 1.1 Crea un array unidimensional con 10 números aleatorios entre 0 y 100\n",
        "# Tu código aquí\n",
        "\n",
        "# 1.2 Calcula la suma, el valor mínimo, el valor máximo, la media y la desviación estándar del array\n",
        "# Tu código aquí\n",
        "\n",
        "# 1.3 Crea una matriz (array bidimensional) de tamaño 4x5 con números aleatorios enteros entre 1 y 50\n",
        "# Tu código aquí\n",
        "\n",
        "# 1.4 Calcula la suma de todos los elementos de la matriz\n",
        "# Tu código aquí\n",
        "\n",
        "# 1.5 Calcula la suma de cada fila de la matriz (a lo largo del eje 1)\n",
        "# Tu código aquí\n",
        "\n",
        "# 1.6 Calcula la suma de cada columna de la matriz (a lo largo del eje 0)\n",
        "# Tu código aquí\n",
        "\n",
        "# 1.7 Encuentra el valor máximo de cada fila y el valor mínimo de cada columna\n",
        "# Tu código aquí\n",
        "```\n",
        "\n",
        "## Ejercicio 2: Comparación de Métodos de Agregación\n",
        "\n",
        "En este ejercicio, compararás el rendimiento y uso de diferentes métodos de agregación, tanto los nativos de Python como los de NumPy.\n",
        "\n",
        "```python\n",
        "import numpy as np\n",
        "import time\n",
        "\n",
        "# 2.1 Crea un array grande con un millón de números aleatorios entre 0 y 1\n",
        "# Tu código aquí\n",
        "\n",
        "# 2.2 Mide el tiempo que tarda la función sum() de Python en calcular la suma\n",
        "# Tu código aquí\n",
        "\n",
        "# 2.3 Mide el tiempo que tarda np.sum() en calcular la suma\n",
        "# Tu código aquí\n",
        "\n",
        "# 2.4 Mide el tiempo que tarda el método .sum() del array en calcular la suma\n",
        "# Tu código aquí\n",
        "\n",
        "# 2.5 Compara los resultados de tiempo y muestra cuál método es más rápido y por qué factor\n",
        "# Tu código aquí\n",
        "\n",
        "# 2.6 Repite las mediciones para las funciones min/max y np.min/np.max y compara\n",
        "# Tu código aquí\n",
        "```\n",
        "\n",
        "## Ejercicio 3: Análisis de Datos con Agregaciones\n",
        "\n",
        "En este ejercicio, trabajarás con un conjunto de datos simulado de temperaturas mensuales y utilizarás agregaciones para analizarlo.\n",
        "\n",
        "```python\n",
        "import numpy as np\n",
        "import matplotlib.pyplot as plt\n",
        "\n",
        "# 3.1 Crea un array que represente las temperaturas diarias (en °C) durante un año (365 días)\n",
        "# con valores aleatorios que oscilen entre -10°C y 35°C\n",
        "# Tu código aquí\n",
        "\n",
        "# 3.2 Calcula la temperatura media, mínima y máxima para todo el año\n",
        "# Tu código aquí\n",
        "\n",
        "# 3.3 Convierte los datos diarios en datos mensuales calculando la temperatura media de cada mes\n",
        "# Sugerencia: puedes agrupar los datos en 12 grupos (simplificando a 30 días por mes)\n",
        "# Tu código aquí\n",
        "\n",
        "# 3.4 Identifica el mes más caluroso y el mes más frío basándote en las temperaturas medias\n",
        "# Tu código aquí\n",
        "\n",
        "# 3.5 Calcula la desviación estándar de las temperaturas para cada mes para medir la variabilidad\n",
        "# Tu código aquí\n",
        "\n",
        "# 3.6 Crea un gráfico que muestre las temperaturas medias, mínimas y máximas para cada mes\n",
        "# Tu código aquí\n",
        "\n",
        "# 3.7 Calcula el percentil 75 y 25 de las temperaturas para todo el año\n",
        "# Tu código aquí\n",
        "\n",
        "# 3.8 Calcula cuántos días del año tuvieron temperaturas superiores a 30°C e inferiores a 0°C\n",
        "# Tu código aquí\n",
        "```"
      ],
      "metadata": {
        "id": "egNps03DywGw"
      }
    },
    {
      "cell_type": "markdown",
      "source": [
        "### Soluciones"
      ],
      "metadata": {
        "id": "0HZqTTa62Nre"
      }
    },
    {
      "cell_type": "code",
      "source": [
        "# Solución Ejercicio 1: Agregaciones Básicas\n",
        "import numpy as np\n",
        "\n",
        "# 1.1 Crea un array unidimensional con 10 números aleatorios entre 0 y 100\n",
        "np.random.seed(42)  # Para reproducibilidad\n",
        "array_1d = np.random.randint(0, 101, 10)\n",
        "print(\"Array 1D:\", array_1d)\n",
        "\n",
        "# 1.2 Calcula la suma, el valor mínimo, el valor máximo, la media y la desviación estándar del array\n",
        "suma = np.sum(array_1d)\n",
        "minimo = np.min(array_1d)\n",
        "maximo = np.max(array_1d)\n",
        "media = np.mean(array_1d)\n",
        "desviacion = np.std(array_1d)\n",
        "\n",
        "print(\"\\nEstadísticas del array 1D:\")\n",
        "print(f\"Suma: {suma}\")\n",
        "print(f\"Mínimo: {minimo}\")\n",
        "print(f\"Máximo: {maximo}\")\n",
        "print(f\"Media: {media:.2f}\")\n",
        "print(f\"Desviación estándar: {desviacion:.2f}\")\n",
        "\n",
        "# 1.3 Crea una matriz (array bidimensional) de tamaño 4x5 con números aleatorios enteros entre 1 y 50\n",
        "matriz = np.random.randint(1, 51, (4, 5))\n",
        "print(\"\\nMatriz 4x5:\")\n",
        "print(matriz)\n",
        "\n",
        "# 1.4 Calcula la suma de todos los elementos de la matriz\n",
        "suma_matriz = np.sum(matriz)\n",
        "print(\"\\nSuma de todos los elementos de la matriz:\", suma_matriz)\n",
        "\n",
        "# 1.5 Calcula la suma de cada fila de la matriz (a lo largo del eje 1)\n",
        "suma_filas = np.sum(matriz, axis=1)\n",
        "print(\"\\nSuma de cada fila:\")\n",
        "print(suma_filas)\n",
        "\n",
        "# 1.6 Calcula la suma de cada columna de la matriz (a lo largo del eje 0)\n",
        "suma_columnas = np.sum(matriz, axis=0)\n",
        "print(\"\\nSuma de cada columna:\")\n",
        "print(suma_columnas)\n",
        "\n",
        "# 1.7 Encuentra el valor máximo de cada fila y el valor mínimo de cada columna\n",
        "max_filas = np.max(matriz, axis=1)\n",
        "min_columnas = np.min(matriz, axis=0)\n",
        "\n",
        "print(\"\\nValor máximo de cada fila:\")\n",
        "print(max_filas)\n",
        "print(\"\\nValor mínimo de cada columna:\")\n",
        "print(min_columnas)"
      ],
      "metadata": {
        "id": "S_-4TpkqwFBi"
      },
      "execution_count": null,
      "outputs": []
    },
    {
      "cell_type": "code",
      "source": [
        "# Solución Ejercicio 2: Comparación de Métodos de Agregación\n",
        "import numpy as np\n",
        "import time\n",
        "\n",
        "# 2.1 Crea un array grande con un millón de números aleatorios entre 0 y 1\n",
        "np.random.seed(42)  # Para reproducibilidad\n",
        "array_grande = np.random.random(1_000_000)\n",
        "print(f\"Tamaño del array: {len(array_grande)} elementos\")\n",
        "\n",
        "# 2.2 Mide el tiempo que tarda la función sum() de Python en calcular la suma\n",
        "inicio = time.time()\n",
        "suma_python = sum(array_grande)\n",
        "fin = time.time()\n",
        "tiempo_python = fin - inicio\n",
        "print(f\"\\nSuma con Python sum(): {suma_python}\")\n",
        "print(f\"Tiempo con Python sum(): {tiempo_python:.6f} segundos\")\n",
        "\n",
        "# 2.3 Mide el tiempo que tarda np.sum() en calcular la suma\n",
        "inicio = time.time()\n",
        "suma_np_sum = np.sum(array_grande)\n",
        "fin = time.time()\n",
        "tiempo_np_sum = fin - inicio\n",
        "print(f\"\\nSuma con np.sum(): {suma_np_sum}\")\n",
        "print(f\"Tiempo con np.sum(): {tiempo_np_sum:.6f} segundos\")\n",
        "\n",
        "# 2.4 Mide el tiempo que tarda el método .sum() del array en calcular la suma\n",
        "inicio = time.time()\n",
        "suma_array_sum = array_grande.sum()\n",
        "fin = time.time()\n",
        "tiempo_array_sum = fin - inicio\n",
        "print(f\"\\nSuma con array.sum(): {suma_array_sum}\")\n",
        "print(f\"Tiempo con array.sum(): {tiempo_array_sum:.6f} segundos\")\n",
        "\n",
        "# 2.5 Compara los resultados de tiempo y muestra cuál método es más rápido y por qué factor\n",
        "factor_python_np = tiempo_python / tiempo_np_sum\n",
        "factor_python_array = tiempo_python / tiempo_array_sum\n",
        "\n",
        "print(\"\\nComparación de tiempos:\")\n",
        "print(f\"np.sum() es {factor_python_np:.2f} veces más rápido que sum()\")\n",
        "print(f\"array.sum() es {factor_python_array:.2f} veces más rápido que sum()\")\n",
        "\n",
        "mas_rapido = \"np.sum()\" if tiempo_np_sum < tiempo_array_sum else \"array.sum()\"\n",
        "print(f\"El método más rápido es: {mas_rapido}\")\n",
        "\n",
        "# 2.6 Repite las mediciones para las funciones min/max y np.min/np.max y compara\n",
        "print(\"\\nComparación de min/max:\")\n",
        "\n",
        "# Python min\n",
        "inicio = time.time()\n",
        "min_python = min(array_grande)\n",
        "fin = time.time()\n",
        "tiempo_min_python = fin - inicio\n",
        "print(f\"Tiempo con Python min(): {tiempo_min_python:.6f} segundos\")\n",
        "\n",
        "# NumPy min\n",
        "inicio = time.time()\n",
        "min_np = np.min(array_grande)\n",
        "fin = time.time()\n",
        "tiempo_min_np = fin - inicio\n",
        "print(f\"Tiempo con np.min(): {tiempo_min_np:.6f} segundos\")\n",
        "\n",
        "# Array min\n",
        "inicio = time.time()\n",
        "min_array = array_grande.min()\n",
        "fin = time.time()\n",
        "tiempo_min_array = fin - inicio\n",
        "print(f\"Tiempo con array.min(): {tiempo_min_array:.6f} segundos\")\n",
        "\n",
        "# Python max\n",
        "inicio = time.time()\n",
        "max_python = max(array_grande)\n",
        "fin = time.time()\n",
        "tiempo_max_python = fin - inicio\n",
        "print(f\"Tiempo con Python max(): {tiempo_max_python:.6f} segundos\")\n",
        "\n",
        "# NumPy max\n",
        "inicio = time.time()\n",
        "max_np = np.max(array_grande)\n",
        "fin = time.time()\n",
        "tiempo_max_np = fin - inicio\n",
        "print(f\"Tiempo con np.max(): {tiempo_max_np:.6f} segundos\")\n",
        "\n",
        "# Array max\n",
        "inicio = time.time()\n",
        "max_array = array_grande.max()\n",
        "fin = time.time()\n",
        "tiempo_max_array = fin - inicio\n",
        "print(f\"Tiempo con array.max(): {tiempo_max_array:.6f} segundos\")\n",
        "\n",
        "# Factores de aceleración\n",
        "factor_min = tiempo_min_python / tiempo_min_np\n",
        "factor_max = tiempo_max_python / tiempo_max_np\n",
        "\n",
        "print(f\"\\nnp.min() es {factor_min:.2f} veces más rápido que min()\")\n",
        "print(f\"np.max() es {factor_max:.2f} veces más rápido que max()\")"
      ],
      "metadata": {
        "id": "UEYF7dIyv4FC",
        "colab": {
          "base_uri": "https://localhost:8080/"
        },
        "outputId": "10f57bf2-323d-4786-b40e-0fca5c58b4a4"
      },
      "execution_count": null,
      "outputs": [
        {
          "output_type": "stream",
          "name": "stdout",
          "text": [
            "Tamaño del array: 1000000 elementos\n",
            "\n",
            "Suma con Python sum(): 500334.4861757136\n",
            "Tiempo con Python sum(): 0.310903 segundos\n",
            "\n",
            "Suma con np.sum(): 500334.48617571464\n",
            "Tiempo con np.sum(): 0.001444 segundos\n",
            "\n",
            "Suma con array.sum(): 500334.48617571464\n",
            "Tiempo con array.sum(): 0.000984 segundos\n",
            "\n",
            "Comparación de tiempos:\n",
            "np.sum() es 215.26 veces más rápido que sum()\n",
            "array.sum() es 316.05 veces más rápido que sum()\n",
            "El método más rápido es: array.sum()\n",
            "\n",
            "Comparación de min/max:\n",
            "Tiempo con Python min(): 0.156380 segundos\n",
            "Tiempo con np.min(): 0.008485 segundos\n",
            "Tiempo con array.min(): 0.001184 segundos\n",
            "Tiempo con Python max(): 0.231289 segundos\n",
            "Tiempo con np.max(): 0.001129 segundos\n",
            "Tiempo con array.max(): 0.001483 segundos\n",
            "\n",
            "np.min() es 18.43 veces más rápido que min()\n",
            "np.max() es 204.79 veces más rápido que max()\n"
          ]
        }
      ]
    },
    {
      "cell_type": "code",
      "source": [
        "import matplotlib.pyplot as plt\n",
        "# 3.1 Crea un array que represente las temperaturas diarias (en °C) durante un año (365 días)\n",
        "# con valores aleatorios que oscilen entre -10°C y 35°C\n",
        "np.random.seed(42) # Para reproducibilidad\n",
        "# Crear temperaturas con variación estacional (más frío en invierno, más calor en verano)\n",
        "dias = np.arange(1, 366)\n",
        "tendencia = 15 - 10 * np.cos(2 * np.pi * dias / 365) # Tendencia estacional\n",
        "variacion = np.random.normal(0, 5, 365) # Variación diaria aleatoria\n",
        "temperaturas = tendencia + variacion\n",
        "temperaturas = np.clip(temperaturas, -5, 40)  # Limitar entre -5 ºC y 40 ºC\n",
        "print(f\"Primeros 10 días de temperaturas: {temperaturas[:10]}\")\n",
        "\n",
        "# 3.2 Calcula la temperatura media, mínima y máxima para todo el año\n",
        "temp_media = np.mean(temperaturas)\n",
        "temp_min = np.min(temperaturas)\n",
        "temp_max = np.max(temperaturas)\n",
        "\n",
        "print(\"\\nEstadísticas anuales:\")\n",
        "print(f\"Temperatura media: {temp_media:.2f}°C\")\n",
        "print(f\"Temperatura mínima: {temp_min:.2f}°C\")\n",
        "print(f\"Temperatura máxima: {temp_max:.2f}°C\")\n",
        "\n",
        "# 3.3 Convierte los datos diarios en datos mensuales calculando la temperatura media de cada mes\n",
        "# Sugerencia: puedes agrupar los datos en 12 grupos (simplificando a 30 días por mes)\n",
        "dias_por_mes = [31, 28, 31, 30, 31, 30, 31, 31, 30, 31, 30, 31]\n",
        "indice_inicio = 0\n",
        "temperaturas_mensuales = []\n",
        "\n",
        "for dias in dias_por_mes:\n",
        "  indice_fin = indice_inicio + dias\n",
        "  temp_mes = np.mean(temperaturas[indice_inicio:indice_fin])\n",
        "  temperaturas_mensuales.append(temp_mes)\n",
        "  indice_inicio = indice_fin\n",
        "\n",
        "temperaturas_mensuales = np.array(temperaturas_mensuales)\n",
        "print(\"\\nTemperaturas medias mensuales:\")\n",
        "print(temperaturas_mensuales)\n",
        "\n",
        "# 3.4 Identifica el mes más caluroso y el mes más frío basándote en las temperaturas medias\n",
        "mes_mas_caluroso = np.argmax(temperaturas_mensuales) + 1  # Sumamos 1 para ajustar el mes a 1-12\n",
        "mes_mas_frio = np.argmin(temperaturas_mensuales) + 1\n",
        "meses = ['Enero', 'Febrero', 'Marzo', 'Abril', 'Mayo', 'Junio',\n",
        "         'Julio', 'Agosto', 'Septiembre', 'Octubre', 'Noviembre', 'Diciembre']\n",
        "\n",
        "print(f\"\\nMes más caluroso: {meses[mes_mas_caluroso-1]} con {temperaturas_mensuales[mes_mas_caluroso-1]:.2f}°C\")\n",
        "print(f\"Mes más frío: {meses[mes_mas_frio-1]} con {temperaturas_mensuales[mes_mas_frio-1]:.2f}°C\")\n",
        "\n",
        "# 3.5 Calcula la desviación estándar de las temperaturas para cada mes para medir la variabilidad\n",
        "indice_inicio = 0\n",
        "desviaciones_mensuales = []\n",
        "\n",
        "for dias in dias_por_mes:\n",
        "    indice_fin = indice_inicio + dias\n",
        "    desv_mes = np.std(temperaturas[indice_inicio:indice_fin])\n",
        "    desviaciones_mensuales.append(desv_mes)\n",
        "    indice_inicio = indice_fin\n",
        "\n",
        "desviaciones_mensuales = np.array(desviaciones_mensuales)\n",
        "print(\"\\nDesviación estándar mensual:\")\n",
        "print(desviaciones_mensuales)\n",
        "\n",
        "# 3.6 Crea un gráfico que muestre las temperaturas medias, mínimas y máximas para cada mes\n",
        "indice_inicio = 0\n",
        "min_mensuales = []\n",
        "max_mensuales = []\n",
        "\n",
        "for dias in dias_por_mes:\n",
        "    indice_fin = indice_inicio + dias\n",
        "    min_mes = np.min(temperaturas[indice_inicio:indice_fin])\n",
        "    max_mes = np.max(temperaturas[indice_inicio:indice_fin])\n",
        "    min_mensuales.append(min_mes)\n",
        "    max_mensuales.append(max_mes)\n",
        "    indice_inicio = indice_fin\n",
        "\n",
        "min_mensuales = np.array(min_mensuales)\n",
        "max_mensuales = np.array(max_mensuales)\n",
        "\n",
        "plt.figure(figsize=(12, 6))\n",
        "plt.plot(meses, temperaturas_mensuales, '-o', label='Temperatura media')\n",
        "plt.plot(meses, min_mensuales, 'v-', label='Temperatura mínima')\n",
        "plt.plot(meses, max_mensuales, '^-', label='Temperatura máxima')\n",
        "plt.title('Temperaturas mensuales')\n",
        "plt.ylabel('Temperatura (°C)')\n",
        "plt.grid(True)\n",
        "plt.legend()\n",
        "plt.xticks(rotation=45)\n",
        "plt.tight_layout()\n",
        "plt.show()\n",
        "\n",
        "# 3.7 Calcula el percentil 75 y 25 de las temperaturas para todo el año\n",
        "percentil_25 = np.percentile(temperaturas, 25)\n",
        "percentil_75 = np.percentile(temperaturas, 75)\n",
        "\n",
        "print(f\"\\nPercentil 25: {percentil_25:.2f}°C\")\n",
        "print(f\"Percentil 75: {percentil_75:.2f}°C\")\n",
        "\n",
        "# 3.8 Calcula cuántos días del año tuvieron temperaturas superiores a 30°C e inferiores a 0°C\n",
        "dias_calurosos = np.sum(temperaturas > 30)\n",
        "dias_helados = np.sum(temperaturas < 0)\n",
        "\n",
        "print(f\"\\nDías con temperaturas superiores a 30°C: {dias_calurosos}\")\n",
        "print(f\"Días con temperaturas inferiores a 0°C: {dias_helados}\")"
      ],
      "metadata": {
        "id": "p5dWTD4hvpzw",
        "colab": {
          "base_uri": "https://localhost:8080/",
          "height": 994
        },
        "outputId": "18df2825-179e-4a33-cf83-8a352e8e6d87"
      },
      "execution_count": null,
      "outputs": [
        {
          "output_type": "stream",
          "name": "stdout",
          "text": [
            "Primeros 10 días de temperaturas: [ 7.48505237  4.31460449  8.25177453 12.63884623  3.86625138  3.88260702\n",
            " 12.96857685  8.93184912  2.77240141  7.86059915]\n",
            "\n",
            "Estadísticas anuales:\n",
            "Temperatura media: 15.04°C\n",
            "Temperatura mínima: -4.28°C\n",
            "Temperatura máxima: 40.00°C\n",
            "\n",
            "Temperaturas medias mensuales:\n",
            "[ 4.4831312   7.26620171 12.49133212 17.30037229 21.46243963 25.97309139\n",
            " 24.96528779 21.89488617 17.11105588 12.76051345  9.15498489  5.1794893 ]\n",
            "\n",
            "Mes más caluroso: Junio con 25.97°C\n",
            "Mes más frío: Enero con 4.48°C\n",
            "\n",
            "Desviación estándar mensual:\n",
            "[4.26794109 4.77732822 5.02773657 4.97756456 5.02715967 4.75225887\n",
            " 4.65714721 5.14096831 6.334476   4.22124529 4.13583002 3.58102509]\n"
          ]
        },
        {
          "output_type": "display_data",
          "data": {
            "text/plain": [
              "<Figure size 1200x600 with 1 Axes>"
            ],
            "image/png": "[encoded data removed]"
          },
          "metadata": {}
        },
        {
          "output_type": "stream",
          "name": "stdout",
          "text": [
            "\n",
            "Percentil 25: 8.15°C\n",
            "Percentil 75: 21.55°C\n",
            "\n",
            "Días con temperaturas superiores a 30°C: 10\n",
            "Días con temperaturas inferiores a 0°C: 9\n"
          ]
        }
      ]
    },
    {
      "cell_type": "code",
      "source": [],
      "metadata": {
        "id": "SgnRVQs8vSTl"
      },
      "execution_count": null,
      "outputs": []
    },
    {
      "cell_type": "code",
      "source": [],
      "metadata": {
        "id": "8ZPm6tQYudfg"
      },
      "execution_count": null,
      "outputs": []
    },
    {
      "cell_type": "code",
      "source": [],
      "metadata": {
        "id": "Zso8i752vJK4"
      },
      "execution_count": null,
      "outputs": []
    },
    {
      "cell_type": "code",
      "source": [],
      "metadata": {
        "id": "1paeQr9VvFK9"
      },
      "execution_count": null,
      "outputs": []
    }
  ]
}